{
 "cells": [
  {
   "cell_type": "markdown",
   "metadata": {},
   "source": [
    "# Compare the performance of different models"
   ]
  },
  {
   "cell_type": "code",
   "execution_count": 11,
   "metadata": {},
   "outputs": [
    {
     "name": "stdout",
     "output_type": "stream",
     "text": [
      "The autoreload extension is already loaded. To reload it, use:\n",
      "  %reload_ext autoreload\n"
     ]
    }
   ],
   "source": [
    "import numpy as np\n",
    "import matplotlib.pyplot as plt\n",
    "from PIL import Image\n",
    "\n",
    "# autoreload modules when code is changed\n",
    "%load_ext autoreload\n",
    "%autoreload 2\n",
    "\n",
    "# load ImageFolder.py from scripts folder\n",
    "import sys\n",
    "sys.path.append('../scripts/')\n",
    "from results_exploration_tool import get_images_with_diffs"
   ]
  },
  {
   "cell_type": "code",
   "execution_count": null,
   "metadata": {},
   "outputs": [],
   "source": [
    "# display val images from convlst_mse_epoch40_lr0.002 and convlst_mse_epoch40_lr0.002_w_pretraining folders\n",
    "\n",
    "path_no_pretraining = '../models/convlstm_mse_epoch40_lr0.002/plots/'\n",
    "path_w_pretraining = '../models/convlstm_mse_epoch40_lr0.002_w_pretraining/plots/'\n",
    "\n",
    "epochs = [10, 20, 30, 40]\n",
    "imgs = ['val_batch_0_sample_1', 'val_batch_1_sample_0', 'val_batch_6_sample_3']\n",
    "\n",
    "fig, axs = plt.subplots(len(imgs)*2, len(epochs), figsize=(15, len(imgs)*10))\n",
    "\n",
    "for i, img in enumerate(imgs):\n",
    "    for j, epoch in enumerate(epochs):\n",
    "        # print(f\"{path_no_pretraining}{img}_{epoch}.png\")\n",
    "        img_no_pretraining = Image.open(f\"{path_no_pretraining}{img}_{epoch}.png\")\n",
    "        width, height = img_no_pretraining.size\n",
    "        img_no_pretraining = img_no_pretraining.crop((0, 0, width // 2, height))\n",
    "        axs[i*2, j].imshow(img_no_pretraining)\n",
    "        axs[i*2, j].set_title(f\"No pretraining, Epoch {epoch}\")\n",
    "        axs[i*2, j].axis('off')\n",
    "\n",
    "        # print(f\"{path_w_pretraining}{img}_{epoch}.png\")\n",
    "        img_w_pretraining = Image.open(f\"{path_w_pretraining}{img}_{epoch}.png\")\n",
    "        width, height = img_w_pretraining.size\n",
    "        img_w_pretraining = img_w_pretraining.crop((0, 0, width // 2, height))\n",
    "        axs[i*2+1, j].imshow(img_w_pretraining)\n",
    "        axs[i*2+1, j].set_title(f\"With pretraining, Epoch {epoch}\")\n",
    "        axs[i*2+1, j].axis('off')\n",
    "\n",
    "plt.tight_layout()\n",
    "plt.show()"
   ]
  },
  {
   "cell_type": "code",
   "execution_count": null,
   "metadata": {},
   "outputs": [],
   "source": [
    "# look at the images from pretraining\n",
    "path_pretraining = '../models/convlstm_mse_epoch40_lr0.002_pretraining/plots/'\n",
    "\n",
    "imgs = [\n",
    "    'val_batch_0_sample_1',\n",
    "    'val_batch_0_sample_2',\n",
    "    'val_batch_0_sample_3',\n",
    "    \n",
    "    \n",
    "]\n",
    "\n",
    "fig, axs = plt.subplots(len(imgs), len(epochs), figsize=(10, len(imgs)*5))\n",
    "\n",
    "for i, img in enumerate(imgs):\n",
    "    for j, epoch in enumerate(epochs):\n",
    "        img_pretraining = Image.open(f\"{path_pretraining}{img}_{epoch}.png\")\n",
    "        width, height = img_pretraining.size\n",
    "        img_pretraining = img_pretraining.crop((0, 0, width // 2, height))\n",
    "        axs[i, j].imshow(img_pretraining)\n",
    "        axs[i, j].set_title(f\"Epoch {epoch}\")\n",
    "        axs[i, j].axis('off')\n",
    "\n",
    "plt.tight_layout()\n",
    "plt.show()"
   ]
  },
  {
   "cell_type": "markdown",
   "metadata": {},
   "source": [
    "Seeing the images and metrics results, it appears that retraining with simple lines dataset does not prove to be very useful. Perhaps a different, more accurate, dataset would yield better results."
   ]
  }
 ],
 "metadata": {
  "kernelspec": {
   "display_name": "Python 3",
   "language": "python",
   "name": "python3"
  },
  "language_info": {
   "codemirror_mode": {
    "name": "ipython",
    "version": 3
   },
   "file_extension": ".py",
   "mimetype": "text/x-python",
   "name": "python",
   "nbconvert_exporter": "python",
   "pygments_lexer": "ipython3",
   "version": "3.9.18"
  }
 },
 "nbformat": 4,
 "nbformat_minor": 2
}
