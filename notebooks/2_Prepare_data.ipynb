{
 "cells": [
  {
   "cell_type": "markdown",
   "metadata": {},
   "source": [
    "This notebook loads the crack data into Datasets and DataLoaders that are compatible for training. The code is saved to `~/scripts/ImageFolder.py` for easy import."
   ]
  },
  {
   "cell_type": "code",
   "execution_count": 72,
   "metadata": {},
   "outputs": [],
   "source": [
    "from PIL import Image\n",
    "import torch\n",
    "from torch.utils.data import Dataset, DataLoader\n",
    "import torchvision.transforms as transforms\n",
    "import matplotlib.pyplot as plt\n",
    "import numpy as np\n",
    "import os"
   ]
  },
  {
   "cell_type": "code",
   "execution_count": 161,
   "metadata": {},
   "outputs": [],
   "source": [
    "# Set data paths\n",
    "data_root = '../data/Processed Dataset/v2 (uses the new segmentation masks)/FutureGAN_format'\n",
    "train_path = os.path.join(data_root, \"train\")\n",
    "test_path = os.path.join(data_root, \"test\")\n",
    "val_path = os.path.join(data_root, \"val\")"
   ]
  },
  {
   "cell_type": "markdown",
   "metadata": {},
   "source": [
    "## Create ImageFolder Class"
   ]
  },
  {
   "cell_type": "code",
   "execution_count": 160,
   "metadata": {},
   "outputs": [],
   "source": [
    "# load from folder\n",
    "class ImageFolder(Dataset):\n",
    "    def __init__(self, root, transform=None):\n",
    "        self.imgs = []\n",
    "        for root, dirs, files in os.walk(root):\n",
    "            for file in files:\n",
    "                if file.endswith(\".png\"):\n",
    "                    self.imgs.append(os.path.join(root, file))\n",
    "        self.transform = transform\n",
    "\n",
    "    def __getitem__(self, index):\n",
    "        img_path = self.imgs[index]\n",
    "        img = Image.open(img_path)\n",
    "        # img = Image.open(img_path).convert('RGB')\n",
    "        if self.transform is not None:\n",
    "            img = self.transform(img)\n",
    "        return img\n",
    "\n",
    "    def __len__(self):\n",
    "        return len(self.imgs)\n",
    "    \n",
    "    # sourced from https://github.com/wherobots/GeoTorchAI/blob/main/geotorchai/datasets/grid/processed.py\n",
    "    def set_sequential_representation(self, history_length, predict_length):\n",
    "        '''\n",
    "        Call this method if you want to iterate the dataset as a sequence of histories and predictions instead of closeness, period, and trend.\n",
    "\n",
    "        Parameters\n",
    "        ..........\n",
    "        history_length (Int) - Length of history data in sequence of each sample\n",
    "        predict_length (Int) - Length of prediction data in sequence of each sample\n",
    "        '''\n",
    "\n",
    "        history_data = []\n",
    "        predict_data = []\n",
    "        seq_length = history_length + predict_length\n",
    "        total_length = len(self.imgs)\n",
    "        for end_idx in range(history_length + predict_length, total_length, seq_length):\n",
    "            history_idx = list(range(end_idx-predict_length-history_length, \n",
    "                                     end_idx-predict_length))\n",
    "            predict_idx = list(range(end_idx-predict_length, \n",
    "                                     end_idx))\n",
    "\n",
    "            history_frames = [np.array(self.__getitem__(idx)) for idx in history_idx]\n",
    "            predict_frames = [np.array(self.__getitem__(idx)) for idx in predict_idx]\n",
    "            \n",
    "            history_data.append(history_frames)\n",
    "            predict_data.append(predict_frames)\n",
    "\n",
    "        history_data = np.stack(history_data)\n",
    "        predict_data = np.stack(predict_data)\n",
    "\n",
    "        self.X_data = torch.tensor(history_data)\n",
    "        self.Y_data = torch.tensor(predict_data)"
   ]
  },
  {
   "cell_type": "markdown",
   "metadata": {},
   "source": [
    "### Try it out with train set"
   ]
  },
  {
   "cell_type": "code",
   "execution_count": 174,
   "metadata": {},
   "outputs": [
    {
     "data": {
      "text/plain": [
       "(torch.Size([79, 5, 1, 128, 128]), torch.Size([79, 1, 1, 128, 128]))"
      ]
     },
     "execution_count": 174,
     "metadata": {},
     "output_type": "execute_result"
    }
   ],
   "source": [
    "train = ImageFolder(root=train_path, transform=transforms.ToTensor())\n",
    "train.set_sequential_representation(history_length=5, predict_length=1)\n",
    "train.X_data.shape, train.Y_data.shape"
   ]
  },
  {
   "cell_type": "code",
   "execution_count": 76,
   "metadata": {},
   "outputs": [
    {
     "data": {
      "text/plain": [
       "['../data/Processed Dataset/v2 (uses the new segmentation masks)/FutureGAN_format/train/47-0-0-2/47-0-0-2_2012-2013.png',\n",
       " '../data/Processed Dataset/v2 (uses the new segmentation masks)/FutureGAN_format/train/47-0-0-2/47-0-0-2_2013-2014.png',\n",
       " '../data/Processed Dataset/v2 (uses the new segmentation masks)/FutureGAN_format/train/47-0-0-2/47-0-0-2_2015-2016.png',\n",
       " '../data/Processed Dataset/v2 (uses the new segmentation masks)/FutureGAN_format/train/47-0-0-2/47-0-0-2_2014-2015.png',\n",
       " '../data/Processed Dataset/v2 (uses the new segmentation masks)/FutureGAN_format/train/47-0-0-2/47-0-0-2_2011-2012.png',\n",
       " '../data/Processed Dataset/v2 (uses the new segmentation masks)/FutureGAN_format/train/47-0-0-2/47-0-0-2_2016-2017.png',\n",
       " '../data/Processed Dataset/v2 (uses the new segmentation masks)/FutureGAN_format/train/26-1-0-2/26-1-0-2_2016-2017.png',\n",
       " '../data/Processed Dataset/v2 (uses the new segmentation masks)/FutureGAN_format/train/26-1-0-2/26-1-0-2_2011-2012.png',\n",
       " '../data/Processed Dataset/v2 (uses the new segmentation masks)/FutureGAN_format/train/26-1-0-2/26-1-0-2_2014-2015.png',\n",
       " '../data/Processed Dataset/v2 (uses the new segmentation masks)/FutureGAN_format/train/26-1-0-2/26-1-0-2_2015-2016.png']"
      ]
     },
     "execution_count": 76,
     "metadata": {},
     "output_type": "execute_result"
    }
   ],
   "source": [
    "train.imgs[:10]"
   ]
  },
  {
   "cell_type": "code",
   "execution_count": 70,
   "metadata": {},
   "outputs": [
    {
     "data": {
      "text/plain": [
       "<matplotlib.image.AxesImage at 0x2932c1760>"
      ]
     },
     "execution_count": 70,
     "metadata": {},
     "output_type": "execute_result"
    },
    {
     "data": {
      "image/png": "[encoded data removed]",
      "text/plain": [
       "<Figure size 640x480 with 1 Axes>"
      ]
     },
     "metadata": {},
     "output_type": "display_data"
    }
   ],
   "source": [
    "# Use plt to show one of the images\n",
    "plt.imshow(train[0].permute(1, 2, 0), cmap='gray')"
   ]
  },
  {
   "cell_type": "code",
   "execution_count": 62,
   "metadata": {},
   "outputs": [
    {
     "data": {
      "text/plain": [
       "tensor([[[0., 0., 0.,  ..., 0., 0., 0.],\n",
       "         [0., 0., 0.,  ..., 0., 0., 0.],\n",
       "         [0., 0., 0.,  ..., 0., 0., 0.],\n",
       "         ...,\n",
       "         [0., 0., 0.,  ..., 0., 0., 0.],\n",
       "         [0., 0., 0.,  ..., 0., 0., 0.],\n",
       "         [0., 0., 0.,  ..., 0., 0., 0.]]])"
      ]
     },
     "execution_count": 62,
     "metadata": {},
     "output_type": "execute_result"
    }
   ],
   "source": [
    "train.__getitem__(0)"
   ]
  },
  {
   "cell_type": "code",
   "execution_count": 51,
   "metadata": {},
   "outputs": [
    {
     "data": {
      "text/plain": [
       "torch.Size([1, 128, 128])"
      ]
     },
     "execution_count": 51,
     "metadata": {},
     "output_type": "execute_result"
    }
   ],
   "source": [
    "train.__getitem__(0).shape"
   ]
  },
  {
   "cell_type": "code",
   "execution_count": 120,
   "metadata": {},
   "outputs": [
    {
     "name": "stdout",
     "output_type": "stream",
     "text": [
      "540\n"
     ]
    }
   ],
   "source": [
    "print(train.__len__())"
   ]
  },
  {
   "cell_type": "markdown",
   "metadata": {},
   "source": [
    "### Try it out with test set"
   ]
  },
  {
   "cell_type": "code",
   "execution_count": 175,
   "metadata": {},
   "outputs": [
    {
     "data": {
      "text/plain": [
       "(torch.Size([10, 5, 1, 128, 128]), torch.Size([10, 1, 1, 128, 128]))"
      ]
     },
     "execution_count": 175,
     "metadata": {},
     "output_type": "execute_result"
    }
   ],
   "source": [
    "test = ImageFolder(root=test_path, transform=transforms.ToTensor())\n",
    "test.set_sequential_representation(history_length=5, predict_length=1)\n",
    "test.X_data.shape, test.Y_data.shape"
   ]
  },
  {
   "cell_type": "code",
   "execution_count": 65,
   "metadata": {},
   "outputs": [
    {
     "data": {
      "text/plain": [
       "['../data/Processed Dataset/v2 (uses the new segmentation masks)/FutureGAN_format/test/57-0-0-1/57-0-0-1_2015-2016.png',\n",
       " '../data/Processed Dataset/v2 (uses the new segmentation masks)/FutureGAN_format/test/57-0-0-1/57-0-0-1_2014-2015.png',\n",
       " '../data/Processed Dataset/v2 (uses the new segmentation masks)/FutureGAN_format/test/57-0-0-1/57-0-0-1_2013-2014.png',\n",
       " '../data/Processed Dataset/v2 (uses the new segmentation masks)/FutureGAN_format/test/57-0-0-1/57-0-0-1_2012-2013.png',\n",
       " '../data/Processed Dataset/v2 (uses the new segmentation masks)/FutureGAN_format/test/57-0-0-1/57-0-0-1_2016-2017.png',\n",
       " '../data/Processed Dataset/v2 (uses the new segmentation masks)/FutureGAN_format/test/57-0-0-1/57-0-0-1_2011-2012.png',\n",
       " '../data/Processed Dataset/v2 (uses the new segmentation masks)/FutureGAN_format/test/58-1-0-2/58-1-0-2_2012-2013.png',\n",
       " '../data/Processed Dataset/v2 (uses the new segmentation masks)/FutureGAN_format/test/58-1-0-2/58-1-0-2_2013-2014.png',\n",
       " '../data/Processed Dataset/v2 (uses the new segmentation masks)/FutureGAN_format/test/58-1-0-2/58-1-0-2_2014-2015.png',\n",
       " '../data/Processed Dataset/v2 (uses the new segmentation masks)/FutureGAN_format/test/58-1-0-2/58-1-0-2_2015-2016.png']"
      ]
     },
     "execution_count": 65,
     "metadata": {},
     "output_type": "execute_result"
    }
   ],
   "source": [
    "test.imgs[:10]"
   ]
  },
  {
   "cell_type": "code",
   "execution_count": 63,
   "metadata": {},
   "outputs": [
    {
     "data": {
      "text/plain": [
       "<matplotlib.image.AxesImage at 0x2931a68b0>"
      ]
     },
     "execution_count": 63,
     "metadata": {},
     "output_type": "execute_result"
    },
    {
     "data": {
      "image/png": "[encoded data removed]",
      "text/plain": [
       "<Figure size 640x480 with 1 Axes>"
      ]
     },
     "metadata": {},
     "output_type": "display_data"
    }
   ],
   "source": [
    "# Use plt to show one of the images\n",
    "plt.imshow(test[0].permute(1, 2, 0), cmap='gray')"
   ]
  },
  {
   "cell_type": "code",
   "execution_count": 56,
   "metadata": {},
   "outputs": [
    {
     "data": {
      "text/plain": [
       "tensor([[[0., 0., 0.,  ..., 0., 0., 0.],\n",
       "         [0., 0., 0.,  ..., 0., 0., 0.],\n",
       "         [0., 0., 0.,  ..., 0., 0., 0.],\n",
       "         ...,\n",
       "         [0., 0., 0.,  ..., 0., 0., 0.],\n",
       "         [0., 0., 0.,  ..., 0., 0., 0.],\n",
       "         [0., 0., 0.,  ..., 0., 0., 0.]]])"
      ]
     },
     "execution_count": 56,
     "metadata": {},
     "output_type": "execute_result"
    }
   ],
   "source": [
    "test.__getitem__(0)"
   ]
  },
  {
   "cell_type": "code",
   "execution_count": 57,
   "metadata": {},
   "outputs": [
    {
     "data": {
      "text/plain": [
       "66"
      ]
     },
     "execution_count": 57,
     "metadata": {},
     "output_type": "execute_result"
    }
   ],
   "source": [
    "test.__len__()"
   ]
  },
  {
   "cell_type": "markdown",
   "metadata": {},
   "source": [
    "### Try it out with validation set"
   ]
  },
  {
   "cell_type": "code",
   "execution_count": 176,
   "metadata": {},
   "outputs": [
    {
     "data": {
      "text/plain": [
       "(torch.Size([9, 5, 1, 128, 128]), torch.Size([9, 1, 1, 128, 128]))"
      ]
     },
     "execution_count": 176,
     "metadata": {},
     "output_type": "execute_result"
    }
   ],
   "source": [
    "val = ImageFolder(root=val_path, transform=transforms.ToTensor())\n",
    "val.set_sequential_representation(history_length=5, predict_length=1)\n",
    "val.X_data.shape, val.Y_data.shape"
   ]
  },
  {
   "cell_type": "code",
   "execution_count": 164,
   "metadata": {},
   "outputs": [
    {
     "data": {
      "text/plain": [
       "['../data/Processed Dataset/v2 (uses the new segmentation masks)/FutureGAN_format/val/26-1-0-2/26-1-0-2_2016-2017.png',\n",
       " '../data/Processed Dataset/v2 (uses the new segmentation masks)/FutureGAN_format/val/26-1-0-2/26-1-0-2_2011-2012.png',\n",
       " '../data/Processed Dataset/v2 (uses the new segmentation masks)/FutureGAN_format/val/26-1-0-2/26-1-0-2_2014-2015.png',\n",
       " '../data/Processed Dataset/v2 (uses the new segmentation masks)/FutureGAN_format/val/26-1-0-2/26-1-0-2_2015-2016.png',\n",
       " '../data/Processed Dataset/v2 (uses the new segmentation masks)/FutureGAN_format/val/26-1-0-2/26-1-0-2_2012-2013.png',\n",
       " '../data/Processed Dataset/v2 (uses the new segmentation masks)/FutureGAN_format/val/26-1-0-2/26-1-0-2_2013-2014.png',\n",
       " '../data/Processed Dataset/v2 (uses the new segmentation masks)/FutureGAN_format/val/65-0-0-2/65-0-0-2_2011-2012.png',\n",
       " '../data/Processed Dataset/v2 (uses the new segmentation masks)/FutureGAN_format/val/65-0-0-2/65-0-0-2_2016-2017.png',\n",
       " '../data/Processed Dataset/v2 (uses the new segmentation masks)/FutureGAN_format/val/65-0-0-2/65-0-0-2_2013-2014.png',\n",
       " '../data/Processed Dataset/v2 (uses the new segmentation masks)/FutureGAN_format/val/65-0-0-2/65-0-0-2_2012-2013.png']"
      ]
     },
     "execution_count": 164,
     "metadata": {},
     "output_type": "execute_result"
    }
   ],
   "source": [
    "val.imgs[:10]"
   ]
  },
  {
   "cell_type": "code",
   "execution_count": 165,
   "metadata": {},
   "outputs": [
    {
     "data": {
      "text/plain": [
       "<matplotlib.image.AxesImage at 0x29481c610>"
      ]
     },
     "execution_count": 165,
     "metadata": {},
     "output_type": "execute_result"
    },
    {
     "data": {
      "image/png": "[encoded data removed]",
      "text/plain": [
       "<Figure size 640x480 with 1 Axes>"
      ]
     },
     "metadata": {},
     "output_type": "display_data"
    }
   ],
   "source": [
    "# Use plt to show one of the images\n",
    "plt.imshow(val[0].permute(1, 2, 0), cmap='gray')"
   ]
  },
  {
   "cell_type": "code",
   "execution_count": 166,
   "metadata": {},
   "outputs": [
    {
     "data": {
      "text/plain": [
       "tensor([[[0., 0., 0.,  ..., 0., 0., 0.],\n",
       "         [0., 0., 0.,  ..., 0., 0., 0.],\n",
       "         [0., 0., 0.,  ..., 0., 0., 0.],\n",
       "         ...,\n",
       "         [0., 0., 0.,  ..., 0., 0., 0.],\n",
       "         [0., 0., 0.,  ..., 0., 0., 0.],\n",
       "         [0., 0., 0.,  ..., 0., 0., 0.]]])"
      ]
     },
     "execution_count": 166,
     "metadata": {},
     "output_type": "execute_result"
    }
   ],
   "source": [
    "val.__getitem__(0)"
   ]
  },
  {
   "cell_type": "code",
   "execution_count": 167,
   "metadata": {},
   "outputs": [
    {
     "data": {
      "text/plain": [
       "60"
      ]
     },
     "execution_count": 167,
     "metadata": {},
     "output_type": "execute_result"
    }
   ],
   "source": [
    "val.__len__()"
   ]
  },
  {
   "cell_type": "markdown",
   "metadata": {},
   "source": [
    "## Usage with DataLoader"
   ]
  },
  {
   "cell_type": "code",
   "execution_count": 180,
   "metadata": {},
   "outputs": [],
   "source": [
    "class ImageDataset(ImageFolder):\n",
    "    def __init__(self, ds):\n",
    "        self.X_data = ds.X_data\n",
    "        self.Y_data = ds.Y_data\n",
    "\n",
    "    def __getitem__(self, index):\n",
    "        x_data = self.X_data[index]\n",
    "        y_data = self.Y_data[index]\n",
    "        \n",
    "        # Returning a dictionary containing data elements\n",
    "        return {\"X_data\": x_data, \"Y_data\": y_data}\n",
    "\n",
    "    def __len__(self):\n",
    "        return len(self.X_data)"
   ]
  },
  {
   "cell_type": "code",
   "execution_count": 52,
   "metadata": {},
   "outputs": [],
   "source": [
    "batch_size = 32\n",
    "params = {'batch_size': batch_size, 'shuffle': False, 'drop_last':False, 'num_workers': 0}"
   ]
  },
  {
   "cell_type": "code",
   "execution_count": 182,
   "metadata": {},
   "outputs": [],
   "source": [
    "train = ImageFolder(root=train_path, transform=transforms.ToTensor())\n",
    "test = ImageFolder(root=test_path, transform=transforms.ToTensor())\n",
    "val = ImageFolder(root=val_path, transform=transforms.ToTensor())\n",
    "\n",
    "train.set_sequential_representation(history_length=5, predict_length=1)\n",
    "test.set_sequential_representation(history_length=5, predict_length=1)\n",
    "val.set_sequential_representation(history_length=5, predict_length=1)\n",
    "\n",
    "train_generator = DataLoader(ImageDataset(train), **params)\n",
    "test_generator = DataLoader(ImageDataset(test), **params)\n",
    "val_generator = DataLoader(ImageDataset(val), **params)"
   ]
  }
 ],
 "metadata": {
  "kernelspec": {
   "display_name": "crack",
   "language": "python",
   "name": "python3"
  },
  "language_info": {
   "codemirror_mode": {
    "name": "ipython",
    "version": 3
   },
   "file_extension": ".py",
   "mimetype": "text/x-python",
   "name": "python",
   "nbconvert_exporter": "python",
   "pygments_lexer": "ipython3",
   "version": "3.8.18"
  },
  "orig_nbformat": 4
 },
 "nbformat": 4,
 "nbformat_minor": 2
}
